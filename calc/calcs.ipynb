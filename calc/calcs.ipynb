{
 "cells": [
  {
   "cell_type": "markdown",
   "id": "309bf213",
   "metadata": {},
   "source": [
    "# Improvement in precision"
   ]
  },
  {
   "cell_type": "code",
   "execution_count": 17,
   "id": "ce2f5b8d",
   "metadata": {
    "ExecuteTime": {
     "end_time": "2022-07-30T11:23:05.786515Z",
     "start_time": "2022-07-30T11:23:05.769491Z"
    }
   },
   "outputs": [
    {
     "name": "stdout",
     "output_type": "stream",
     "text": [
      "First measurement, MHz\n",
      "725724903.1575879 3852.9723060559477 5.3091361331158455e-06\n",
      "First measurement, nm\n",
      "4.1309380000000003e-13 0.0021931712199461306 5.3091361331158455e-06\n",
      "\n",
      "\n",
      "Second measurement, MHz\n",
      "725736700.0 263.0589287593181 3.624715806150056e-07\n",
      "Second measurement, nm\n",
      "413.08708516463344 0.00014973232869127008 3.6247158061500553e-07\n",
      "\n",
      "\n",
      "Uncertainty ratios: wl, freq\n",
      "14.647279175549217 14.64680299668204\n"
     ]
    }
   ],
   "source": [
    "import numpy as np\n",
    "\n",
    "def f2wl(val,val_unc = 0):\n",
    "# % Converts wavlength to frequency, and vice versa, with (absolute) uncertainty \n",
    "# % The conversion is reciprocal, so this function converts both ways.\n",
    "# %   Inputs:     Wavelength (or frequency) in meters (or Hz)\n",
    "# %         (opt) Uncertainty (in same units)\n",
    "# %   Outputs:    Frequency (or wavelength) in Hz (or m)\n",
    "# %               Uncertainty (in same units) (iff also passed as input)\n",
    "\n",
    "    c = 299792458\n",
    "    f = c/val\n",
    "    if val_unc is not None:\n",
    "        df = c*val_unc/val**2\n",
    "    return f,df\n",
    "\n",
    "\n",
    "first_measurement_wl = 413.0938e-9\n",
    "first_measurement_wl_unc = np.linalg.norm([0.002e-9,0.0009e-9])\n",
    "# first_measurement_wl_unc = np.sum([0.002e-9,0.0009e-9])\n",
    "first_measurement_f,first_measurement_f_unc=f2wl(first_measurement_wl,first_measurement_wl_unc)\n",
    "\n",
    "second_measurement_f,second_measurement_f_unc = 725736700e6,np.linalg.norm([40e6,260e6])\n",
    "# second_measurement_f,second_measurement_f_unc = 725736700e6,np.sum([40e6,260e6])\n",
    "second_measurement_wl,second_measurement_wl_unc = f2wl(second_measurement_f,second_measurement_f_unc)\n",
    "\n",
    "\n",
    "print('First measurement, MHz')\n",
    "print(first_measurement_f/1e6,first_measurement_f_unc/1e6,first_measurement_f_unc/first_measurement_f)\n",
    "print('First measurement, nm')\n",
    "print(first_measurement_wl/1e6,first_measurement_wl_unc*1e9,first_measurement_wl_unc/first_measurement_wl)\n",
    "\n",
    "print('\\n')\n",
    "\n",
    "print('Second measurement, MHz')\n",
    "print(second_measurement_f/1e6,second_measurement_f_unc/1e6,second_measurement_f_unc/second_measurement_f)\n",
    "print('Second measurement, nm')\n",
    "print(second_measurement_wl*1e9,second_measurement_wl_unc*1e9,second_measurement_wl_unc/second_measurement_wl)\n",
    "print('\\n')\n",
    "\n",
    "print('Uncertainty ratios: wl, freq')\n",
    "print(first_measurement_wl_unc/second_measurement_wl_unc,first_measurement_f_unc/second_measurement_f_unc)\n",
    "\n",
    "\n",
    "\n"
   ]
  },
  {
   "cell_type": "code",
   "execution_count": 5,
   "id": "40b5c8d1",
   "metadata": {
    "ExecuteTime": {
     "end_time": "2022-07-30T08:24:03.912352Z",
     "start_time": "2022-07-30T08:24:03.907350Z"
    }
   },
   "outputs": [
    {
     "data": {
      "text/plain": [
       "281.093846394125"
      ]
     },
     "execution_count": 5,
     "metadata": {},
     "output_type": "execute_result"
    }
   ],
   "source": [
    "\n",
    "f1,_=f2wl(413.01e-9) \n",
    "f2,_=f2wl(413.17e-9)\n",
    "(f1-f2)/1e9"
   ]
  },
  {
   "cell_type": "code",
   "execution_count": 7,
   "id": "6d95899f",
   "metadata": {
    "ExecuteTime": {
     "end_time": "2022-07-30T08:34:02.436272Z",
     "start_time": "2022-07-30T08:34:02.427230Z"
    }
   },
   "outputs": [
    {
     "data": {
      "text/plain": [
       "4.841515413690546e-07"
      ]
     },
     "execution_count": 7,
     "metadata": {},
     "output_type": "execute_result"
    }
   ],
   "source": [
    "# WL precision\n",
    "wl_unc = 200e-15\n",
    "wl_unc/first_measurement_wl\n"
   ]
  },
  {
   "cell_type": "code",
   "execution_count": 11,
   "id": "66105f12",
   "metadata": {
    "ExecuteTime": {
     "end_time": "2022-07-30T08:39:33.198357Z",
     "start_time": "2022-07-30T08:39:33.180387Z"
    }
   },
   "outputs": [
    {
     "data": {
      "text/plain": [
       "351.3608304736541"
      ]
     },
     "execution_count": 11,
     "metadata": {},
     "output_type": "execute_result"
    }
   ],
   "source": [
    "1e-6*first_measurement_f*wl_unc/first_measurement_wl"
   ]
  },
  {
   "cell_type": "code",
   "execution_count": 8,
   "id": "2b35d0a9",
   "metadata": {
    "ExecuteTime": {
     "end_time": "2022-07-30T08:35:27.391540Z",
     "start_time": "2022-07-30T08:35:27.372542Z"
    }
   },
   "outputs": [
    {
     "data": {
      "text/plain": [
       "2.7558203960196584e-09"
      ]
     },
     "execution_count": 8,
     "metadata": {},
     "output_type": "execute_result"
    }
   ],
   "source": [
    "# with the WS8\n",
    "wm_unc = 2e6\n",
    "\n",
    "wm_unc/second_measurement_f"
   ]
  },
  {
   "cell_type": "code",
   "execution_count": 9,
   "id": "04fc356c",
   "metadata": {
    "ExecuteTime": {
     "end_time": "2022-07-30T08:37:15.119505Z",
     "start_time": "2022-07-30T08:37:15.102506Z"
    }
   },
   "outputs": [
    {
     "data": {
      "text/plain": [
       "175.6832709665456"
      ]
     },
     "execution_count": 9,
     "metadata": {},
     "output_type": "execute_result"
    }
   ],
   "source": [
    "4.841515413690546e-07/2.7558203960196584e-09"
   ]
  },
  {
   "cell_type": "markdown",
   "id": "65c76697",
   "metadata": {
    "ExecuteTime": {
     "end_time": "2022-04-16T05:28:51.650507Z",
     "start_time": "2022-04-16T05:28:51.644487Z"
    }
   },
   "source": [
    "# Level diagram"
   ]
  },
  {
   "cell_type": "code",
   "execution_count": 7,
   "id": "fc1a1ee1",
   "metadata": {
    "ExecuteTime": {
     "end_time": "2022-06-19T02:59:57.753626Z",
     "start_time": "2022-06-19T02:59:57.675467Z"
    }
   },
   "outputs": [
    {
     "data": {
      "text/html": [
       "<div>\n",
       "<style scoped>\n",
       "    .dataframe tbody tr th:only-of-type {\n",
       "        vertical-align: middle;\n",
       "    }\n",
       "\n",
       "    .dataframe tbody tr th {\n",
       "        vertical-align: top;\n",
       "    }\n",
       "\n",
       "    .dataframe thead th {\n",
       "        text-align: right;\n",
       "    }\n",
       "</style>\n",
       "<table border=\"1\" class=\"dataframe\">\n",
       "  <thead>\n",
       "    <tr style=\"text-align: right;\">\n",
       "      <th></th>\n",
       "      <th>N</th>\n",
       "      <th>lower</th>\n",
       "      <th>upper</th>\n",
       "      <th>J_l</th>\n",
       "      <th>J_u</th>\n",
       "      <th>l_air</th>\n",
       "      <th>l_vac</th>\n",
       "      <th>unit</th>\n",
       "      <th>E_low</th>\n",
       "      <th>E_up</th>\n",
       "      <th>A_ul</th>\n",
       "      <th>SA_ul</th>\n",
       "      <th>f_lu</th>\n",
       "      <th>rat</th>\n",
       "    </tr>\n",
       "  </thead>\n",
       "  <tbody>\n",
       "    <tr>\n",
       "      <th>0</th>\n",
       "      <td>1</td>\n",
       "      <td>1^1S</td>\n",
       "      <td>2^1P</td>\n",
       "      <td>0</td>\n",
       "      <td>1</td>\n",
       "      <td>NaN</td>\n",
       "      <td>584.334357</td>\n",
       "      <td>NaN</td>\n",
       "      <td>0.000000</td>\n",
       "      <td>171134.896946</td>\n",
       "      <td>1.798900e+09</td>\n",
       "      <td>1.800900e+09</td>\n",
       "      <td>2.761600e-01</td>\n",
       "      <td>1.0</td>\n",
       "    </tr>\n",
       "    <tr>\n",
       "      <th>1</th>\n",
       "      <td>2</td>\n",
       "      <td>1^1S</td>\n",
       "      <td>3^1P</td>\n",
       "      <td>0</td>\n",
       "      <td>1</td>\n",
       "      <td>NaN</td>\n",
       "      <td>537.029918</td>\n",
       "      <td>NaN</td>\n",
       "      <td>0.000000</td>\n",
       "      <td>186209.364940</td>\n",
       "      <td>5.663400e+08</td>\n",
       "      <td>5.799600e+08</td>\n",
       "      <td>7.343500e-02</td>\n",
       "      <td>1.0</td>\n",
       "    </tr>\n",
       "    <tr>\n",
       "      <th>2</th>\n",
       "      <td>3</td>\n",
       "      <td>1^1S</td>\n",
       "      <td>4^1P</td>\n",
       "      <td>0</td>\n",
       "      <td>1</td>\n",
       "      <td>NaN</td>\n",
       "      <td>522.213086</td>\n",
       "      <td>NaN</td>\n",
       "      <td>0.000000</td>\n",
       "      <td>191492.711909</td>\n",
       "      <td>2.435600e+08</td>\n",
       "      <td>2.522700e+08</td>\n",
       "      <td>2.986300e-02</td>\n",
       "      <td>1.0</td>\n",
       "    </tr>\n",
       "    <tr>\n",
       "      <th>3</th>\n",
       "      <td>4</td>\n",
       "      <td>1^1S</td>\n",
       "      <td>5^1P</td>\n",
       "      <td>0</td>\n",
       "      <td>1</td>\n",
       "      <td>NaN</td>\n",
       "      <td>515.616842</td>\n",
       "      <td>NaN</td>\n",
       "      <td>0.000000</td>\n",
       "      <td>193942.462294</td>\n",
       "      <td>1.258200e+08</td>\n",
       "      <td>1.311500e+08</td>\n",
       "      <td>1.504000e-02</td>\n",
       "      <td>1.0</td>\n",
       "    </tr>\n",
       "    <tr>\n",
       "      <th>4</th>\n",
       "      <td>5</td>\n",
       "      <td>1^1S</td>\n",
       "      <td>6^1P</td>\n",
       "      <td>0</td>\n",
       "      <td>1</td>\n",
       "      <td>NaN</td>\n",
       "      <td>512.098563</td>\n",
       "      <td>NaN</td>\n",
       "      <td>0.000000</td>\n",
       "      <td>195274.908466</td>\n",
       "      <td>7.317400e+07</td>\n",
       "      <td>7.657500e+07</td>\n",
       "      <td>8.627700e-03</td>\n",
       "      <td>1.0</td>\n",
       "    </tr>\n",
       "    <tr>\n",
       "      <th>...</th>\n",
       "      <td>...</td>\n",
       "      <td>...</td>\n",
       "      <td>...</td>\n",
       "      <td>...</td>\n",
       "      <td>...</td>\n",
       "      <td>...</td>\n",
       "      <td>...</td>\n",
       "      <td>...</td>\n",
       "      <td>...</td>\n",
       "      <td>...</td>\n",
       "      <td>...</td>\n",
       "      <td>...</td>\n",
       "      <td>...</td>\n",
       "      <td>...</td>\n",
       "    </tr>\n",
       "    <tr>\n",
       "      <th>2494</th>\n",
       "      <td>935</td>\n",
       "      <td>10^3S</td>\n",
       "      <td>10^1P</td>\n",
       "      <td>1</td>\n",
       "      <td>1</td>\n",
       "      <td>NaN</td>\n",
       "      <td>70.856304</td>\n",
       "      <td>cm-1</td>\n",
       "      <td>197145.233258</td>\n",
       "      <td>197216.089562</td>\n",
       "      <td>2.725400e-04</td>\n",
       "      <td>1.678400e+07</td>\n",
       "      <td>8.140000e-08</td>\n",
       "      <td>NaN</td>\n",
       "    </tr>\n",
       "    <tr>\n",
       "      <th>2495</th>\n",
       "      <td>936</td>\n",
       "      <td>10^3P</td>\n",
       "      <td>10^1D</td>\n",
       "      <td>1</td>\n",
       "      <td>2</td>\n",
       "      <td>NaN</td>\n",
       "      <td>14.656262</td>\n",
       "      <td>cm-1</td>\n",
       "      <td>197198.333268</td>\n",
       "      <td>197212.989530</td>\n",
       "      <td>2.977000e-03</td>\n",
       "      <td>1.790300e+06</td>\n",
       "      <td>3.467500e-05</td>\n",
       "      <td>NaN</td>\n",
       "    </tr>\n",
       "    <tr>\n",
       "      <th>2496</th>\n",
       "      <td>936</td>\n",
       "      <td>10^3P</td>\n",
       "      <td>10^1D</td>\n",
       "      <td>2</td>\n",
       "      <td>2</td>\n",
       "      <td>NaN</td>\n",
       "      <td>14.656808</td>\n",
       "      <td>cm-1</td>\n",
       "      <td>197198.332722</td>\n",
       "      <td>197212.989530</td>\n",
       "      <td>1.059200e-03</td>\n",
       "      <td>1.790300e+06</td>\n",
       "      <td>7.402400e-06</td>\n",
       "      <td>NaN</td>\n",
       "    </tr>\n",
       "    <tr>\n",
       "      <th>2497</th>\n",
       "      <td>937</td>\n",
       "      <td>10^3D</td>\n",
       "      <td>10^1P</td>\n",
       "      <td>1</td>\n",
       "      <td>1</td>\n",
       "      <td>NaN</td>\n",
       "      <td>3.262439</td>\n",
       "      <td>cm-1</td>\n",
       "      <td>197212.827123</td>\n",
       "      <td>197216.089562</td>\n",
       "      <td>1.497700e-08</td>\n",
       "      <td>1.678400e+07</td>\n",
       "      <td>2.118300e-09</td>\n",
       "      <td>NaN</td>\n",
       "    </tr>\n",
       "    <tr>\n",
       "      <th>2498</th>\n",
       "      <td>937</td>\n",
       "      <td>10^3D</td>\n",
       "      <td>10^1P</td>\n",
       "      <td>2</td>\n",
       "      <td>1</td>\n",
       "      <td>NaN</td>\n",
       "      <td>3.263617</td>\n",
       "      <td>cm-1</td>\n",
       "      <td>197212.825945</td>\n",
       "      <td>197216.089562</td>\n",
       "      <td>7.379400e-05</td>\n",
       "      <td>1.678400e+07</td>\n",
       "      <td>6.262500e-06</td>\n",
       "      <td>NaN</td>\n",
       "    </tr>\n",
       "  </tbody>\n",
       "</table>\n",
       "<p>2499 rows × 14 columns</p>\n",
       "</div>"
      ],
      "text/plain": [
       "        N  lower  upper J_l J_u l_air       l_vac  unit          E_low  \\\n",
       "0       1   1^1S   2^1P   0   1   NaN  584.334357   NaN       0.000000   \n",
       "1       2   1^1S   3^1P   0   1   NaN  537.029918   NaN       0.000000   \n",
       "2       3   1^1S   4^1P   0   1   NaN  522.213086   NaN       0.000000   \n",
       "3       4   1^1S   5^1P   0   1   NaN  515.616842   NaN       0.000000   \n",
       "4       5   1^1S   6^1P   0   1   NaN  512.098563   NaN       0.000000   \n",
       "...   ...    ...    ...  ..  ..   ...         ...   ...            ...   \n",
       "2494  935  10^3S  10^1P   1   1   NaN   70.856304  cm-1  197145.233258   \n",
       "2495  936  10^3P  10^1D   1   2   NaN   14.656262  cm-1  197198.333268   \n",
       "2496  936  10^3P  10^1D   2   2   NaN   14.656808  cm-1  197198.332722   \n",
       "2497  937  10^3D  10^1P   1   1   NaN    3.262439  cm-1  197212.827123   \n",
       "2498  937  10^3D  10^1P   2   1   NaN    3.263617  cm-1  197212.825945   \n",
       "\n",
       "               E_up          A_ul         SA_ul          f_lu  rat  \n",
       "0     171134.896946  1.798900e+09  1.800900e+09  2.761600e-01  1.0  \n",
       "1     186209.364940  5.663400e+08  5.799600e+08  7.343500e-02  1.0  \n",
       "2     191492.711909  2.435600e+08  2.522700e+08  2.986300e-02  1.0  \n",
       "3     193942.462294  1.258200e+08  1.311500e+08  1.504000e-02  1.0  \n",
       "4     195274.908466  7.317400e+07  7.657500e+07  8.627700e-03  1.0  \n",
       "...             ...           ...           ...           ...  ...  \n",
       "2494  197216.089562  2.725400e-04  1.678400e+07  8.140000e-08  NaN  \n",
       "2495  197212.989530  2.977000e-03  1.790300e+06  3.467500e-05  NaN  \n",
       "2496  197212.989530  1.059200e-03  1.790300e+06  7.402400e-06  NaN  \n",
       "2497  197216.089562  1.497700e-08  1.678400e+07  2.118300e-09  NaN  \n",
       "2498  197216.089562  7.379400e-05  1.678400e+07  6.262500e-06  NaN  \n",
       "\n",
       "[2499 rows x 14 columns]"
      ]
     },
     "execution_count": 7,
     "metadata": {},
     "output_type": "execute_result"
    }
   ],
   "source": [
    "import numpy as np\n",
    "import matplotlib.pyplot as plt\n",
    "import pandas as pd\n",
    "\n",
    "\n",
    "datafile = 'drake_levels/all_transitions.txt'\n",
    "\n",
    "colnames = ['N', 'lower', 'upper', 'J_l', 'J_u', 'l_air', 'l_vac', 'unit', 'E_low', 'E_up', 'A_ul', 'SA_ul', 'f_lu',  'rat']\n",
    "dtypes = {'N':int,\n",
    "          'lower':str,\n",
    "          'upper':str,\n",
    "          'J_l':int,\n",
    "          'J_u':int,\n",
    "          'l_air':float,\n",
    "          'l_vac':float,\n",
    "          'unit':str,\n",
    "          'E_low':float,\n",
    "          'E_up':float,\n",
    "          'A_ul':float,\n",
    "          'SA_ul':float,\n",
    "          'f_lu':float,\n",
    "          'rat':float}\n",
    "df = pd.read_csv(datafile)\n",
    "df"
   ]
  },
  {
   "cell_type": "code",
   "execution_count": 18,
   "id": "98448ab9",
   "metadata": {
    "ExecuteTime": {
     "end_time": "2022-06-19T03:02:24.003764Z",
     "start_time": "2022-06-19T03:02:23.996763Z"
    }
   },
   "outputs": [
    {
     "data": {
      "text/plain": [
       "24.587306200300937"
      ]
     },
     "execution_count": 18,
     "metadata": {},
     "output_type": "execute_result"
    }
   ],
   "source": []
  },
  {
   "cell_type": "code",
   "execution_count": 20,
   "id": "07b1103a",
   "metadata": {
    "ExecuteTime": {
     "end_time": "2022-06-19T03:02:57.894543Z",
     "start_time": "2022-06-19T03:02:56.465454Z"
    }
   },
   "outputs": [
    {
     "data": {
      "image/png": "[encoded data removed]",
      "text/plain": [
       "<Figure size 864x864 with 1 Axes>"
      ]
     },
     "metadata": {
      "needs_background": "light"
     },
     "output_type": "display_data"
    }
   ],
   "source": [
    "num_multiplets = 937\n",
    "\n",
    "# We can be pretty rough for the first instance. Just need to find \n",
    "# the first instance of any multiplet as they'll be very similar\n",
    "\n",
    "# and let's just look at the lower ones.. we can be very crude here\n",
    "\n",
    "\n",
    "def wavenum2eV(E_in):\n",
    "    E = E_in/8065.544\n",
    "    return E\n",
    "\n",
    "L_symbols = ['S','P','D','F','G','H','I']\n",
    "L_values = {'S':0,'P':1,'D':2,'F':3,'G':4,'H':5,'I':6}\n",
    "N_max = 10\n",
    "L_max = 3\n",
    "E_levels = {}\n",
    "\n",
    "for n in range(N_max):\n",
    "    for L in range(min(L_max+1,n+1)):\n",
    "        for S in [1,3]:\n",
    "            level_string = f'{n+1}^{S}{L_symbols[L]}'\n",
    "            matched_lower = df[(df['lower']==level_string)]\n",
    "            for J in range(L+2):\n",
    "                full_string = f'{level_string}_{J}'\n",
    "                matched_j = matched_lower[(matched_lower['J_l']==f'{J}')]\n",
    "\n",
    "                E_levels[full_string]= {'N':n+1,\n",
    "                                        'L':L,\n",
    "                                         'S':(S-1)/2,\n",
    "                                         'J':J,\n",
    "                                         'E':np.mean(matched_j['E_low']),\n",
    "                                         'E_std':np.std(matched_j['E_low']),\n",
    "                                         'num':len(matched_j)\n",
    "                                         }\n",
    "#                 if E_levels[full_string]['E']>0:\n",
    "                E = wavenum2eV(E_levels[full_string]['E'])\n",
    "                E_levels[full_string]['E_ev'] = E\n",
    "        \n",
    "    \n",
    "    \n",
    "    \n",
    "line_length = 0.25\n",
    "spacing = 3*line_length/2\n",
    "\n",
    "transitions = ['5^3D_1','5^3D_2','5^3D_3','5^1D_2','5^3S_1']\n",
    "cool_line = ['2^3S_1','2^3P_2']\n",
    "tuneout_levels = ['2^3P','3^3P'] \n",
    "\n",
    "def lvl2x(lvl):\n",
    "    return lvl['L'] + lvl['S']*0.3 +(lvl['L']>0)*0.15\n",
    "def wl2ev(l):\n",
    "    h = 6.63e-34\n",
    "    c = 299792458\n",
    "    q = 1.6e-19\n",
    "    return h*c/(l*q)\n",
    "    \n",
    "ionization_energy = wavenum2eV(198310)\n",
    "\n",
    "fig = plt.figure(figsize=(12,12))\n",
    "ax = fig.add_subplot(111)\n",
    "for lev in E_levels:\n",
    "    if E_levels[lev]['S'] == 0: #singlets\n",
    "        mfcolor = [0,0,0]\n",
    "        sign = 0\n",
    "    else:\n",
    "        mfcolor = [1/2,1/2,1/2]\n",
    "        sign = 1\n",
    "    plt.plot(lvl2x(E_levels[lev]) + 0.2*np.array([-1,1])/2,\n",
    "             E_levels[lev]['E_ev']*np.array([1,1]),\n",
    "             color=mfcolor,linewidth=2.2)\n",
    "    \n",
    "tr_lw = 2\n",
    "\n",
    "for tr in transitions:\n",
    "    if tr == '5^1D_2':\n",
    "        sty = '--'\n",
    "    else:\n",
    "        sty = '-'\n",
    "    plt.plot([lvl2x(E_levels['2^3P_2']),lvl2x(E_levels[tr])],\n",
    "                [E_levels['2^3P_2']['E_ev'],E_levels[tr]['E_ev']],\n",
    "             'dodgerblue',linestyle=sty,linewidth=tr_lw)\n",
    "    \n",
    "plt.plot([lvl2x(E_levels[cool_line[0]]),lvl2x(E_levels[cool_line[1]])],\n",
    "            [E_levels[cool_line[0]]['E_ev'],E_levels[cool_line[1]]['E_ev']],\n",
    "         'r',linewidth=tr_lw)\n",
    "\n",
    "plt.plot([lvl2x(E_levels['1^1S_0']),lvl2x(E_levels['2^3S_1'])],\n",
    "            [E_levels['1^1S_0']['E_ev'],E_levels['2^3S_1']['E_ev']],color='blueviolet',linestyle='--',linewidth=tr_lw)\n",
    "\n",
    "plt.plot([lvl2x(E_levels['2^3S_1']),lvl2x(E_levels['3^3S_1'])],\n",
    "            [E_levels['2^3S_1']['E_ev'],E_levels['3^3S_1']['E_ev']],color='c',linestyle='--',linewidth=tr_lw)\n",
    "\n",
    "plt.plot([lvl2x(E_levels['2^3S_1']),lvl2x(E_levels['3^3P_1'])],\n",
    "            [E_levels['2^3S_1']['E_ev'],E_levels['2^3S_1']['E_ev']+wl2ev(413e-9)],\n",
    "             color='darkturquoise',linestyle=':',linewidth=tr_lw)\n",
    "    \n",
    "plt.axhline(ionization_energy,color='k',linestyle=':')    \n",
    "\n",
    "ax.spines['top'].set_visible(False)\n",
    "ax.spines['right'].set_visible(False)\n",
    "plt.xlabel('$L$')\n",
    "plt.ylabel('Energy (eV)')\n",
    "\n",
    "plt.savefig('lvl_diag_full_plot.svg')\n",
    "\n",
    "plt.show()\n",
    "\n",
    "\n",
    "        "
   ]
  },
  {
   "cell_type": "markdown",
   "id": "fab1d432",
   "metadata": {},
   "source": [
    "# Harmonic approximation to Gaussian"
   ]
  },
  {
   "cell_type": "markdown",
   "id": "3c9c6077",
   "metadata": {},
   "source": [
    "The maximum velocity we observe is about 10 mm/sec. This can be used to find the max potential energy and thus the maximum excursion."
   ]
  },
  {
   "cell_type": "code",
   "execution_count": 2,
   "id": "689a6fc8",
   "metadata": {
    "ExecuteTime": {
     "end_time": "2022-07-31T07:03:40.513002Z",
     "start_time": "2022-07-31T07:03:38.417111Z"
    }
   },
   "outputs": [],
   "source": [
    "import numpy as np\n",
    "import matplotlib.pyplot as plt"
   ]
  },
  {
   "cell_type": "code",
   "execution_count": 3,
   "id": "9057ae0f",
   "metadata": {
    "ExecuteTime": {
     "end_time": "2022-07-31T07:03:40.529012Z",
     "start_time": "2022-07-31T07:03:40.513002Z"
    }
   },
   "outputs": [
    {
     "name": "stdout",
     "output_type": "stream",
     "text": [
      "Max displacement 3.789403406949889e-06 m\n"
     ]
    }
   ],
   "source": [
    "m = 6.64e-27\n",
    "omega_mag = 420\n",
    "v_max = 10e-3 # m/s\n",
    "E = 0.5*m*v_max**2\n",
    "\n",
    "x_max = v_max/(2*np.pi*omega_mag)\n",
    "\n",
    "    \n",
    "x_max = np.sqrt(2*E/m)/(2*np.pi*omega_mag)\n",
    "print(f'Max displacement {x_max} m')\n"
   ]
  },
  {
   "cell_type": "code",
   "execution_count": 9,
   "id": "193966f0",
   "metadata": {
    "ExecuteTime": {
     "end_time": "2022-08-01T12:20:16.554485Z",
     "start_time": "2022-08-01T12:20:16.539836Z"
    }
   },
   "outputs": [
    {
     "data": {
      "text/plain": [
       "0.3789403406949889"
      ]
     },
     "execution_count": 9,
     "metadata": {},
     "output_type": "execute_result"
    }
   ],
   "source": [
    "np.power(x_max/1e-5,1)"
   ]
  },
  {
   "cell_type": "code",
   "execution_count": 4,
   "id": "f77293f6",
   "metadata": {
    "ExecuteTime": {
     "end_time": "2022-07-31T07:03:40.561002Z",
     "start_time": "2022-07-31T07:03:40.529012Z"
    }
   },
   "outputs": [
    {
     "data": {
      "text/plain": [
       "2.184950801444931e-45"
      ]
     },
     "execution_count": 4,
     "metadata": {},
     "output_type": "execute_result"
    }
   ],
   "source": [
    "# consider the strongest trap, i.e. one where Omega_probe approx 10 Hz\n",
    "# In our approximation this gives a value of\n",
    "omega_probe = 10\n",
    "epsilon = 8.85e-12\n",
    "c = 299792458\n",
    "beam_waist = 10e-6\n",
    "Re_a_P = np.power(2*np.pi*omega_probe,2)*np.pi*m*c*epsilon*beam_waist**4\n",
    "Re_a_P"
   ]
  },
  {
   "cell_type": "code",
   "execution_count": 17,
   "id": "25343605",
   "metadata": {
    "ExecuteTime": {
     "end_time": "2022-06-19T07:09:16.793678Z",
     "start_time": "2022-06-19T07:09:16.775679Z"
    }
   },
   "outputs": [],
   "source": [
    "# So we have a form for the full dipole potential, roughly"
   ]
  },
  {
   "cell_type": "markdown",
   "id": "8eb02611",
   "metadata": {},
   "source": [
    "$U = -\\frac{1}{2\\epsilon_0 c} \\textrm{Re}(\\alpha)\\frac{2P}{\\pi w_{0}^{2}}\\exp\\left(-\\frac{1}{2}\\left(\\frac{y}{w_0}\\right)^2\\right)$"
   ]
  },
  {
   "cell_type": "markdown",
   "id": "c91000cc",
   "metadata": {},
   "source": [
    "$U = -\\frac{\\textrm{Re}(\\alpha)P}{\\pi w_{0}^{2}\\epsilon_0 c}\\exp\\left(-\\frac{1}{2}\\left(\\frac{y}{w_0}\\right)^2\\right)$"
   ]
  },
  {
   "cell_type": "markdown",
   "id": "0d505f22",
   "metadata": {},
   "source": [
    "another approach is to look at the change in gradient.\n",
    " \n",
    " $U = -\\frac{1}{2\\epsilon_0 c} \\textrm{Re}(\\alpha)\\frac{2P}{\\pi w_{0}^{2}}\\exp\\left(-\\frac{1}{2}\\left(\\frac{y}{w_0}\\right)^2\\right)$\n",
    "\n",
    "$d_y U =  -\\frac{y}{w_{0}^2} U$\n",
    "\n",
    "Whereas the gradient of the harmonic approx has the form\n",
    "$d_y U_{approx} =   -\\frac{4\\textrm{Re}(\\alpha)P}{\\pi w_{0}^{4}\\epsilon_0 c} y$\n",
    "\n",
    "The relative error of the approximation in the force is \n",
    "\n",
    "$1- \\frac{d_y U_{approx}}{d_y U} =  1-\\frac{4\\textrm{Re}(\\alpha)P}{\\pi w_{0}^{2}\\epsilon_0 c} U^{-1}$\n",
    "$ =  1-\\exp\\left(\\frac{1}{2}\\left(\\frac{y}{w_0}\\right)^2\\right)$\n",
    "\n"
   ]
  },
  {
   "cell_type": "code",
   "execution_count": 58,
   "id": "fd7546c2",
   "metadata": {
    "ExecuteTime": {
     "end_time": "2022-06-19T08:42:37.677664Z",
     "start_time": "2022-06-19T08:42:37.667663Z"
    }
   },
   "outputs": [
    {
     "data": {
      "text/plain": [
       "-0.07443816838998596"
      ]
     },
     "execution_count": 58,
     "metadata": {},
     "output_type": "execute_result"
    }
   ],
   "source": [
    "1-np.exp(0.5*np.power((x_max/beam_waist),2))"
   ]
  },
  {
   "cell_type": "code",
   "execution_count": 62,
   "id": "2a2e3022",
   "metadata": {
    "ExecuteTime": {
     "end_time": "2022-06-19T08:44:51.405080Z",
     "start_time": "2022-06-19T08:44:51.211318Z"
    }
   },
   "outputs": [
    {
     "data": {
      "image/png": "[encoded data removed]",
      "text/plain": [
       "<Figure size 432x288 with 2 Axes>"
      ]
     },
     "metadata": {
      "needs_background": "light"
     },
     "output_type": "display_data"
    }
   ],
   "source": [
    "## Hmmm let's plot these\n",
    "\n",
    "Y = np.linspace(-x_max,x_max,300)\n",
    "\n",
    "U_approx = -Re_a_P/(np.pi*c*beam_waist**2*epsilon) + 2*Re_a_P/(np.pi*c*beam_waist**4*epsilon)*np.power(Y,2)\n",
    "U_exact = -Re_a_P/(np.pi*c*beam_waist**2*epsilon)*np.exp(-0.5*np.power((Y/beam_waist),2))\n",
    "\n",
    "U_mag = 0.5*m*np.power((omega_mag*Y),2)\n",
    "\n",
    "plt.figure()\n",
    "plt.subplot(121)\n",
    "plt.plot(1e6*Y,U_exact)\n",
    "plt.plot(1e6*Y,U_approx)\n",
    "plt.plot(1e6*Y,U_mag)\n",
    "plt.subplot(122)\n",
    "# plt.plot(Y,(U_exact-U_approx)/U_exact)\n",
    "plt.plot(1e6*Y,U_exact+U_mag)\n",
    "plt.plot(1e6*Y,U_approx+U_mag)\n",
    "plt.show()"
   ]
  },
  {
   "cell_type": "code",
   "execution_count": null,
   "id": "84c1b466",
   "metadata": {},
   "outputs": [],
   "source": [
    "# Well that's actually pretty catastrophic. But what does it do to the total potential?"
   ]
  },
  {
   "cell_type": "code",
   "execution_count": 48,
   "id": "f9de8f3e",
   "metadata": {
    "ExecuteTime": {
     "end_time": "2022-06-19T08:35:40.180253Z",
     "start_time": "2022-06-19T08:35:40.168252Z"
    }
   },
   "outputs": [
    {
     "data": {
      "text/plain": [
       "2.0394496220818074e-06"
      ]
     },
     "execution_count": 48,
     "metadata": {},
     "output_type": "execute_result"
    }
   ],
   "source": [
    "wbar=2*np.pi*np.power(425**3+425**3+55**3,1/3)\n",
    "h = 6.63e-34\n",
    "hbar = 0.5*h/np.pi\n",
    "kB = 1.3806e-23\n",
    "N = 6e5\n",
    "T_c = 0.94*hbar*wbar*np.power(N,1/3)/kB\n",
    "T_c"
   ]
  },
  {
   "cell_type": "markdown",
   "id": "8eac8932",
   "metadata": {},
   "source": [
    "## Bryce notes\n",
    "\n",
    "Gradient often 37-75 H^2/Ghz. In Fig 4.5 it's about the former. So worst-case could be 2x what I used.\n",
    "Waist 14 um.\n",
    "gaussian sigma = 0.5* waist!?\n",
    "Hes used 80mW and still got good agreement\n",
    "\n",
    "Assuming polz is linear about detuning we have dalpha/df = 1.8017e-53\n",
    "\n",
    "Giving U_dipole = (-1/2 eps c) P * dalpha/df * detuning\n"
   ]
  },
  {
   "cell_type": "code",
   "execution_count": null,
   "id": "87adc57c",
   "metadata": {},
   "outputs": [],
   "source": []
  }
 ],
 "metadata": {
  "kernelspec": {
   "display_name": "Python 3 (ipykernel)",
   "language": "python",
   "name": "python3"
  },
  "language_info": {
   "codemirror_mode": {
    "name": "ipython",
    "version": 3
   },
   "file_extension": ".py",
   "mimetype": "text/x-python",
   "name": "python",
   "nbconvert_exporter": "python",
   "pygments_lexer": "ipython3",
   "version": "3.9.7"
  },
  "toc": {
   "base_numbering": 1,
   "nav_menu": {},
   "number_sections": true,
   "sideBar": true,
   "skip_h1_title": false,
   "title_cell": "Table of Contents",
   "title_sidebar": "Contents",
   "toc_cell": false,
   "toc_position": {},
   "toc_section_display": true,
   "toc_window_display": false
  }
 },
 "nbformat": 4,
 "nbformat_minor": 5
}
